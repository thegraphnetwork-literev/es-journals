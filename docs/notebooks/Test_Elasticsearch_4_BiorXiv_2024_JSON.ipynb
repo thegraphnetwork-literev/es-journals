{
 "cells": [
  {
   "cell_type": "markdown",
   "id": "7bc4bad6-861f-45cd-b532-e33c7ec59c42",
   "metadata": {},
   "source": [
    "# Advanced Querying Techniques in Elasticsearch for BiorXiv Data Analysis"
   ]
  },
  {
   "cell_type": "markdown",
   "id": "ca714fcb-2565-4dc6-8ad4-b6dac4bec88a",
   "metadata": {},
   "source": [
    "Elasticsearch, renowned for its speed and scalability, is an indispensable tool for data scientists and researchers working with large datasets like those from BiorXiv. BiorXiv provides a rich corpus of preprint publications in the life sciences, offering a wealth of data for analysis. In this guide, we delve into sophisticated querying techniques to extract meaningful insights from BiorXiv data using Elasticsearch. We'll explore everything from basic keyword searches to complex aggregations and filters."
   ]
  },
  {
   "cell_type": "markdown",
   "id": "57942729-500c-4e45-8d13-ef610eaf1dbf",
   "metadata": {},
   "source": [
    "### Establishing a Secure Connection to Elasticsearch"
   ]
  },
  {
   "cell_type": "markdown",
   "id": "c5567d6f-2f83-4c25-99e0-0846966dc69b",
   "metadata": {},
   "source": [
    "\n",
    "Establishing a secure connection to your Elasticsearch cluster is paramount. This ensures that your data interactions are encrypted and protected. Here’s a brief refresher on setting up a secure connection:"
   ]
  },
  {
   "cell_type": "code",
   "execution_count": 2,
   "id": "a76637ec-6312-45e7-aee5-e89be9a4b18e",
   "metadata": {},
   "outputs": [],
   "source": [
    "import ssl\n",
    "import json\n",
    "from elasticsearch import Elasticsearch\n",
    "from typing import List, Dict, Any\n",
    "    \n",
    "\n",
    "# Path to the CA certificate\n",
    "ca_cert_path = '/workspace/repos/osl/rxiv-restapi/containers/esconfig/certs/http_ca.crt'\n",
    "# Create an SSL context\n",
    "ssl_context = ssl.create_default_context(cafile=ca_cert_path)\n",
    "# Create a connection to Elasticsearch with authentication and SSL context\n",
    "es = Elasticsearch(\n",
    "    [\"https://es:9200\"],\n",
    "    basic_auth=(\"elastic\", \"worksfine\"),\n",
    "    ssl_context=ssl_context\n",
    ")"
   ]
  },
  {
   "cell_type": "markdown",
   "id": "d3e9203a-5988-409b-ae62-8c1c8d3f6e6a",
   "metadata": {},
   "source": [
    "### Index JSON Data into Elasticsearch\n",
    "**Before we can search, you must have the data indexed in Elasticsearch.** \n",
    "**Here's a simplified function to read the JSON file and index its contents.** \n",
    "**This example assumes that your JSON data is an array of objects, each representing a document to be indexed.**"
   ]
  },
  {
   "cell_type": "code",
   "execution_count": 3,
   "id": "5e6d3258-5682-41e7-b3b6-c406bb9bd8d0",
   "metadata": {},
   "outputs": [],
   "source": [
    "\n",
    "def index_json_data(es: Elasticsearch, file_path: str, index_name: str) -> None:\n",
    "    \"\"\"\n",
    "    Reads data from a JSON file and indexes it into Elasticsearch.\n",
    "\n",
    "    Parameters:\n",
    "    es (Elasticsearch): An Elasticsearch client instance.\n",
    "    file_path (str): The path to the JSON file.\n",
    "    index_name (str): The name of the Elasticsearch index where data will be stored.\n",
    "    \"\"\"\n",
    "    # Load JSON data from the file\n",
    "    with open(file_path, 'r', encoding='utf-8') as file:\n",
    "        data = json.load(file)\n",
    "\n",
    "    # Assuming `data` is a list of documents\n",
    "    for doc in data:\n",
    "        # Index each document\n",
    "        res = es.index(index=index_name, document=doc)\n",
    "        # print(res['result'])\n"
   ]
  },
  {
   "cell_type": "markdown",
   "id": "46318043-4de4-4dc2-9edd-21f93c56e11f",
   "metadata": {},
   "source": [
    "### Indexing Data into Elasticsearch"
   ]
  },
  {
   "cell_type": "code",
   "execution_count": 4,
   "id": "bec3e056-e980-44b1-9533-eda980b86747",
   "metadata": {},
   "outputs": [
    {
     "name": "stdout",
     "output_type": "stream",
     "text": [
      "CPU times: user 3min 41s, sys: 19.1 s, total: 4min\n",
      "Wall time: 25min 48s\n"
     ]
    }
   ],
   "source": [
    "%%time\n",
    "\n",
    "# Assuming index_json_data is a previously defined function that indexes data from a JSON file to Elasticsearch\n",
    "# Path to the JSON file containing data to be indexed\n",
    "file_path = '/workspace/repos/osl/rxiv-restapi/docs/notebooks/data/biorxiv_2022-01-01_2024-01-11.json'\n",
    "# Name of the Elasticsearch index\n",
    "index_name = 'biorxiv'\n",
    "# Index data from the specified JSON file into Elasticsearch\n",
    "index_json_data(es, file_path, index_name)"
   ]
  },
  {
   "cell_type": "markdown",
   "id": "6ca8104d-2a52-4e2b-b7b5-36961a09b2f5",
   "metadata": {},
   "source": [
    "## Querying Analyses for BiorXiv Data\n"
   ]
  },
  {
   "cell_type": "markdown",
   "id": "438f5163-489c-4ea3-92db-a8e82889ebdb",
   "metadata": {},
   "source": [
    "### Create a Search Function\n",
    "\n",
    "**After indexing the data, we can create a function to perform searches using the Elasticsearch client.**"
   ]
  },
  {
   "cell_type": "markdown",
   "id": "a45112e1-8c6b-483b-9a1b-b5124c6cb082",
   "metadata": {},
   "source": [
    "**Note**: This function, search_data, retrieves all documents matching the query using **Elasticsearch's Scroll API**, which is suitable for retrieving large sets of results. The function returns a list of all documents"
   ]
  },
  {
   "cell_type": "code",
   "execution_count": 104,
   "id": "1cf28c07-5567-4cb6-b2e8-1f540cf23f1e",
   "metadata": {},
   "outputs": [],
   "source": [
    "\n",
    "def search_data(es: Elasticsearch, index_name: str, query: Dict[str, Any], page_size: int = 9999) -> List[Dict[str, Any]]:\n",
    "    \"\"\"\n",
    "    Performs a search query in an Elasticsearch index and returns all documents matching the query.\n",
    "\n",
    "    Parameters:\n",
    "    - es (Elasticsearch): An Elasticsearch client instance.\n",
    "    - index_name (str): The name of the Elasticsearch index to search in.\n",
    "    - query (dict): The search query in Elasticsearch Query DSL format.\n",
    "    - page_size (int): The number of results to return per page.\n",
    "\n",
    "    Returns:\n",
    "    - List[Dict[str, Any]]: A list of all documents from the search results.\n",
    "    \"\"\"\n",
    "    documents = []\n",
    "\n",
    "    # Include 'from' and 'size' within the query body\n",
    "    body = query\n",
    "    # body['from'] = from_param\n",
    "    body['size'] = page_size\n",
    "\n",
    "    # Initialize the scroll\n",
    "    response = es.search(index=index_name, body=query, scroll='2m')\n",
    "    scroll_id = response['_scroll_id']\n",
    "    hits = response['hits']['hits']\n",
    "\n",
    "    # Start scrolling\n",
    "    while hits:\n",
    "        documents.extend(hits)\n",
    "        response = es.scroll(scroll_id=scroll_id, scroll='2m')\n",
    "        scroll_id = response['_scroll_id']\n",
    "        hits = response['hits']['hits']\n",
    "\n",
    "    return documents\n",
    "\n"
   ]
  },
  {
   "cell_type": "code",
   "execution_count": 105,
   "id": "73b9e1c0-bc4f-4923-9674-9760725b8880",
   "metadata": {},
   "outputs": [
    {
     "name": "stdout",
     "output_type": "stream",
     "text": [
      "Total results: 12470 \n",
      "\n",
      "First result: {'doi': '10.1101/2024.01.05.574328', 'title': 'CRISPR-repressed toxin-antitoxin provides population-level immunity against diverse anti-CRISPR elements', 'authors': 'Li, M.; Shu, X.; Wang, R.; Li, Z.; Xue, Q.; Liu, C.; Cheng, F.; Zhao, H.; Wang, J.; Liu, J.; Hu, C.; Li, J.; Ouyang, S.', 'author_corresponding': 'Ming Li', 'author_corresponding_institution': 'Institute of Microbiology, CAS', 'date': '2024-01-05', 'version': '1', 'license': 'cc_no', 'category': 'Microbiology', 'jatsxml': 'https://www.biorxiv.org/content/early/2024/01/05/2024.01.05.574328.source.xml', 'abstract': 'Prokaryotic CRISPR-Cas systems are highly vulnerable to phage-encoded anti-CRISPR (Acr) factors. How CRISPR-Cas systems protect themselves remains unclear. Here, we uncovered a broad-spectrum anti-anti-CRISPR strategy involving a phage-derived toxic protein. Transcription of this toxin is normally reppressed by the CRISPR-Cas effector, but is activated to halt cell division when the effector is inhibited by any anti-CRISPR proteins or RNAs. We showed that this abortive infection-like effect efficiently expels Acr elements from bacterial population. Furthermore, we exploited this anti-anti-CRISPR mechanism to develop a screening method for specific Acr candidates for a CRISPR-Cas system, and successfully identified two distinct Acr proteins that enhance the binding of CRISPR effector to non-target DNA. Our data highlight the broad-spectrum role of CRISPR-repressed toxins in counteracting various types of Acr factors, which illuminates that the regulatory function of CRISPR-Cas confers host cells herd immunity against Acr-encoding genetic invaders, no matter they are CRISPR-targeted or not.', 'node': 103416, 'link_page': 'https://www.biorxiv.org/content/10.1101/2024.01.05.574328v1?versioned=TRUE', 'link_pdf': 'https://www.biorxiv.org/content/10.1101/2024.01.05.574328v1.full.pdf'}\n",
      "-------------------------\n",
      "CPU times: user 137 ms, sys: 16.8 ms, total: 154 ms\n",
      "Wall time: 574 ms\n"
     ]
    }
   ],
   "source": [
    "%%time\n",
    "\n",
    "query = {\n",
    "    \"query\": {\n",
    "        \"match\": {\n",
    "            \"abstract\": \"CRISPR\"\n",
    "        }\n",
    "    }\n",
    "}\n",
    "\n",
    "all_results = search_data(es, index_name, query)\n",
    "\n",
    "print(\"Total results:\", len(all_results), \"\\n\")\n",
    "if all_results:\n",
    "    print(\"First result:\", all_results[0]['_source'])\n",
    "else:\n",
    "    print(\"No results found.\")\n",
    "\n",
    "print(\"-\" * 25)"
   ]
  },
  {
   "cell_type": "markdown",
   "id": "8fddfd1d-9bc8-4962-b268-c196aa8b1805",
   "metadata": {},
   "source": [
    "### Keyword Searches: The Basics\n",
    "#### Search for documents with a specific title.\n"
   ]
  },
  {
   "cell_type": "markdown",
   "id": "c79806b0-e503-4bfa-95c3-6ea93d397720",
   "metadata": {},
   "source": [
    "These query examples illustrate the flexibility of Elasticsearch's Query DSL to retrieve specific data based on various search criteria.\n",
    "\n",
    "Creating a variety of Elasticsearch query combinations involves using different aspects of the Elasticsearch Query DSL (Domain Specific Language) to retrieve specific documents based on your criteria. Below are several examples of query combinations that can be used to retrieve keys and values from the JSON data provided\n",
    "\n",
    "Each of these queries can be passed to the `search_data` function you've defined to retrieve documents from Elasticsearch based on the specified criteria. Remember to replace `index_name` with the name of your index when calling the function:"
   ]
  },
  {
   "cell_type": "markdown",
   "id": "ea001516-8b65-4ac9-aac6-92631c0538b7",
   "metadata": {},
   "source": [
    "### Match Query\n"
   ]
  },
  {
   "cell_type": "markdown",
   "id": "58875093-badd-4145-a82a-e7e80b7973ce",
   "metadata": {},
   "source": [
    "Keyword searches are the foundation of data retrieval in Elasticsearch. For instance, finding all BiorXiv papers related to CRISPR:\n"
   ]
  },
  {
   "cell_type": "code",
   "execution_count": 106,
   "id": "8b132847-794d-49e7-bf68-492372dbed01",
   "metadata": {},
   "outputs": [
    {
     "name": "stdout",
     "output_type": "stream",
     "text": [
      "Total results: 12470 \n",
      "\n",
      "First result: {'doi': '10.1101/2024.01.05.574328', 'title': 'CRISPR-repressed toxin-antitoxin provides population-level immunity against diverse anti-CRISPR elements', 'authors': 'Li, M.; Shu, X.; Wang, R.; Li, Z.; Xue, Q.; Liu, C.; Cheng, F.; Zhao, H.; Wang, J.; Liu, J.; Hu, C.; Li, J.; Ouyang, S.', 'author_corresponding': 'Ming Li', 'author_corresponding_institution': 'Institute of Microbiology, CAS', 'date': '2024-01-05', 'version': '1', 'license': 'cc_no', 'category': 'Microbiology', 'jatsxml': 'https://www.biorxiv.org/content/early/2024/01/05/2024.01.05.574328.source.xml', 'abstract': 'Prokaryotic CRISPR-Cas systems are highly vulnerable to phage-encoded anti-CRISPR (Acr) factors. How CRISPR-Cas systems protect themselves remains unclear. Here, we uncovered a broad-spectrum anti-anti-CRISPR strategy involving a phage-derived toxic protein. Transcription of this toxin is normally reppressed by the CRISPR-Cas effector, but is activated to halt cell division when the effector is inhibited by any anti-CRISPR proteins or RNAs. We showed that this abortive infection-like effect efficiently expels Acr elements from bacterial population. Furthermore, we exploited this anti-anti-CRISPR mechanism to develop a screening method for specific Acr candidates for a CRISPR-Cas system, and successfully identified two distinct Acr proteins that enhance the binding of CRISPR effector to non-target DNA. Our data highlight the broad-spectrum role of CRISPR-repressed toxins in counteracting various types of Acr factors, which illuminates that the regulatory function of CRISPR-Cas confers host cells herd immunity against Acr-encoding genetic invaders, no matter they are CRISPR-targeted or not.', 'node': 103416, 'link_page': 'https://www.biorxiv.org/content/10.1101/2024.01.05.574328v1?versioned=TRUE', 'link_pdf': 'https://www.biorxiv.org/content/10.1101/2024.01.05.574328v1.full.pdf'}\n",
      "-------------------------\n",
      "CPU times: user 178 ms, sys: 12.2 ms, total: 190 ms\n",
      "Wall time: 659 ms\n"
     ]
    }
   ],
   "source": [
    "%%time \n",
    "\n",
    "query = {\n",
    "      \"query\": {\n",
    "          \"match\": {\n",
    "              \"abstract\": \"CRISPR\"\n",
    "          } \n",
    "      }         \n",
    "}\n",
    "\n",
    "all_results = search_data(es, index_name, query)\n",
    "\n",
    "print(\"Total results:\", len(all_results), \"\\n\")\n",
    "if all_results:\n",
    "    print(\"First result:\", all_results[0]['_source'])\n",
    "else:\n",
    "    print(\"No results found.\")\n",
    "\n",
    "print(\"-\" * 25)"
   ]
  },
  {
   "cell_type": "markdown",
   "id": "23f16e76-5927-4760-b131-35e0a4ca47a7",
   "metadata": {},
   "source": [
    "### Term Query\n",
    "Retrieve documents where the `license` field exactly matches the specified value.\n"
   ]
  },
  {
   "cell_type": "code",
   "execution_count": 107,
   "id": "92d8b26c-3c7c-49ee-984f-fa6eb4b90a18",
   "metadata": {},
   "outputs": [
    {
     "name": "stdout",
     "output_type": "stream",
     "text": [
      "Total results: 195728 \n",
      "\n",
      "First result: {'doi': '10.1101/2023.09.21.558920', 'title': 'Automated customization of large-scale spiking network models to neuronal population activity', 'authors': 'Wu, S.; Huang, C.; Snyder, A.; Smith, M. A.; Doiron, B.; Yu, B.', 'author_corresponding': 'Shenghao Wu', 'author_corresponding_institution': 'Carnegie Mellon University', 'date': '2023-09-22', 'version': '1', 'license': 'cc_by_nc_nd', 'category': 'Neuroscience', 'jatsxml': 'https://www.biorxiv.org/content/early/2023/09/22/2023.09.21.558920.source.xml', 'abstract': 'Understanding brain function is facilitated by constructing computational models that accurately reproduce aspects of brain activity. Networks of spiking neurons capture the underlying biophysics of neuronal circuits, yet the dependence of their activity on model parameters is notoriously complex. As a result, heuristic methods have been used to configure spiking network models, which can lead to an inability to discover activity regimes complex enough to match large-scale neuronal recordings. Here we propose an automatic procedure, Spiking Network Optimization using Population Statistics (SNOPS), to customize spiking network models that reproduce the population-wide covariability of large-scale neuronal recordings. We first confirmed that SNOPS accurately recovers simulated neural activity statistics. Then, we applied SNOPS to recordings in macaque visual and prefrontal cortices and discovered previously unknown limitations of spiking network models. Taken together, SNOPS can guide the development of network models and thereby enable deeper insight into how networks of neurons give rise to brain function.', 'published': 'NA', 'node': 90091, 'link_page': 'https://www.biorxiv.org/content/10.1101/2023.09.21.558920v1?versioned=TRUE', 'link_pdf': 'https://www.biorxiv.org/content/10.1101/2023.09.21.558920v1.full.pdf'}\n",
      "-------------------------\n",
      "CPU times: user 2.33 s, sys: 327 ms, total: 2.66 s\n",
      "Wall time: 8.55 s\n"
     ]
    }
   ],
   "source": [
    "%%time\n",
    "\n",
    "query = {\n",
    "      \"query\": {\n",
    "          \"term\": {\n",
    "              \"license\": {\n",
    "                  \"value\": \"cc_by_nc_nd\"\n",
    "            }\n",
    "        }\n",
    "    }\n",
    "}\n",
    "\n",
    "\n",
    "all_results = search_data(es, index_name, query)\n",
    "\n",
    "print(\"Total results:\", len(all_results), \"\\n\")\n",
    "if all_results:\n",
    "    print(\"First result:\", all_results[0]['_source'])\n",
    "else:\n",
    "    print(\"No results found.\")\n",
    "\n",
    "print(\"-\" * 25)"
   ]
  },
  {
   "cell_type": "markdown",
   "id": "46450067-4af5-443b-947c-4ab35a1dccce",
   "metadata": {},
   "source": [
    "### Range Query\n",
    "Find documents published within a specific date range.\n"
   ]
  },
  {
   "cell_type": "code",
   "execution_count": 108,
   "id": "3f09bdab-55c6-4e56-bfab-e63fa89e3724",
   "metadata": {},
   "outputs": [
    {
     "name": "stdout",
     "output_type": "stream",
     "text": [
      "Total results: 20035 \n",
      "\n",
      "First result: {'doi': '10.1101/2021.04.27.441649', 'title': 'Developmental diversity and unique sensitivity to injury of lung endothelial subtypes during a period of rapid postnatal growth', 'authors': 'Zanini, F.; Che, X.; Knutsen, C.; Liu, M.; Suresh, N. E.; Domingo-Gonzalez, R.; Dou, S. H.; Pryhuber, G. S.; Jones, R. C.; Quake, S. R.; Cornfield, D. N.; Alvira, C. M.', 'author_corresponding': 'Cristina M. Alvira', 'author_corresponding_institution': 'Division of Critical Care Medicine, Department of Pediatrics, Stanford University School of Medicine', 'date': '2022-12-21', 'version': '2', 'license': 'cc_by_nc_nd', 'category': 'Developmental Biology', 'jatsxml': 'https://www.biorxiv.org/content/early/2022/12/21/2021.04.27.441649.source.xml', 'abstract': 'At birth, the lung is still immature, heightening susceptibility to injury but enhancing regenerative capacity. Angiogenesis drives postnatal lung development. Therefore, we profiled the transcriptional ontogeny and sensitivity to injury of pulmonary endothelial cells (EC) during early postnatal life. Although subtype speciation was evident at birth, immature lung EC exhibited transcriptomes distinct from mature counterparts, which progressed dynamically over time. Gradual, temporal changes in aerocyte capillary EC (CAP2), contrasted with more marked alterations in general capillary EC (CAP1) phenotype, including distinct CAP1 present only in the early alveolar lung expressing Peg3, a paternally imprinted transcription factor. Hyperoxia, an injury which impairs angiogenesis, induced both common and unique endothelial gene signatures, dysregulated capillary EC cross-talk, and suppressed CAP1 proliferation while stimulating venous EC proliferation. These data highlight the diversity, transcriptomic evolution, and pleiotropic responses to injury of immature lung EC, possessing broad implications for lung development and injury across the lifespan.', 'published': 'NA', 'node': 2159, 'link_page': 'https://www.biorxiv.org/content/10.1101/2021.04.27.441649v2?versioned=TRUE', 'link_pdf': 'https://www.biorxiv.org/content/10.1101/2021.04.27.441649v2.full.pdf'}\n",
      "-------------------------\n",
      "CPU times: user 569 ms, sys: 85.4 ms, total: 654 ms\n",
      "Wall time: 1.63 s\n"
     ]
    }
   ],
   "source": [
    "%%time\n",
    "\n",
    "query = {\n",
    "    \"query\": {\n",
    "        \"range\": {\n",
    "            \"date\": {\n",
    "                \"gte\": \"2022-12-01\",\n",
    "                \"lte\": \"2022-12-31\"\n",
    "            }\n",
    "        }\n",
    "    }\n",
    "}\n",
    "\n",
    "all_results = search_data(es, index_name, query, page_size=100)\n",
    "\n",
    "print(\"Total results:\", len(all_results), \"\\n\")\n",
    "if all_results:\n",
    "    print(\"First result:\", all_results[0]['_source'])\n",
    "else:\n",
    "    print(\"No results found.\")\n",
    "\n",
    "print(\"-\" * 25)"
   ]
  },
  {
   "cell_type": "markdown",
   "id": "ef58edd1-0433-4e3f-ad0d-904f629f79b5",
   "metadata": {},
   "source": [
    "\n",
    "### Bool Query\n",
    "Combine multiple search criteria. For example, search for documents by authors in a specific category and with a specific license.\n"
   ]
  },
  {
   "cell_type": "code",
   "execution_count": 109,
   "id": "f5d24f63-dfd0-4491-85c5-5592c6818adc",
   "metadata": {},
   "outputs": [
    {
     "name": "stdout",
     "output_type": "stream",
     "text": [
      "Total results: 40 \n",
      "\n",
      "First result: {'doi': '10.1101/2022.10.06.511167', 'title': 'High selectivity of frequency induced transcriptional responses', 'authors': 'Givre, A.; Colman-Lerner, A.; Ponce-Dawson, S.', 'author_corresponding': 'Silvina Ponce-Dawson', 'author_corresponding_institution': 'School of Natural and Exact Sciences, University of Buenos Aires', 'date': '2022-10-07', 'version': '1', 'license': 'cc_by_nc_nd', 'category': 'Systems Biology', 'jatsxml': 'https://www.biorxiv.org/content/early/2022/10/07/2022.10.06.511167.source.xml', 'abstract': 'Cells continuously interact with their environment, detect its changes and generate responses accordingly. This requires interpreting the variations and, in many occasions, producing changes in gene expression. In this paper we use information theory and a simple transcription model to analyze the extent to which the resulting gene expression is able to identify and assess the intensity of extracellular stimuli when they are encoded in the amplitude, duration or frequency of a transcription factors nuclear concentration. We find that the maximal information transmission is, for the three codifications, ~ 1.5 - 1.8 bits, i.e., approximately 3 ranges of input strengths can be distinguished in all cases. The types of promoters that yield maximum transmission for the three modes are all similarly fast and have a high activation threshold. The three input modulation modes differ, however, in the sensitivity to changes in the parameters that characterize the promoters, with frequency modulation being the most sensitive and duration modulation, the least. This turns out to be key for signal identification. Namely, we show that, because of this sensitivity difference, it is possible to find promoter parameters that yield an information transmission within 90% of its maximum value for duration or amplitude modulation and less than 1 bit for frequency modulation. The reverse situation cannot be found within the framework of a single promoter transcription model. This means that pulses of transcription factors in the nucleus can selectively activate the promoter that is tuned to respond to frequency modulations while prolonged nuclear accumulation would activate several promoters at the same time. Thus, frequency modulation is better suited than the other encoding modes to allow the identification of external stimuli without requiring other mediators of the transduction.', 'published': 'NA', 'node': 43301, 'link_page': 'https://www.biorxiv.org/content/10.1101/2022.10.06.511167v1?versioned=TRUE', 'link_pdf': 'https://www.biorxiv.org/content/10.1101/2022.10.06.511167v1.full.pdf'}\n",
      "-------------------------\n",
      "CPU times: user 19.6 ms, sys: 7.59 ms, total: 27.2 ms\n",
      "Wall time: 32.7 ms\n"
     ]
    }
   ],
   "source": [
    "%%time\n",
    "\n",
    "query = {\n",
    "    \"query\": {\n",
    "        \"bool\": {\n",
    "            \"must\": [\n",
    "                {\"match\": {\"authors\": \"Colman-Lerner\"}},\n",
    "                {\"match\": {\"category\": \"Systems Biology\"}},\n",
    "                {\"term\": {\"license\": \"cc_by_nc_nd\"}}\n",
    "            ]\n",
    "        }\n",
    "    }        \n",
    "}\n",
    "\n",
    "\n",
    "all_results = search_data(es, index_name, query)\n",
    "\n",
    "print(\"Total results:\", len(all_results), \"\\n\")\n",
    "if all_results:\n",
    "    print(\"First result:\", all_results[0]['_source'])\n",
    "else:\n",
    "    print(\"No results found.\")\n",
    "\n",
    "print(\"-\" * 25)"
   ]
  },
  {
   "cell_type": "markdown",
   "id": "960c8f80-af34-4ab7-8099-0d59a81af22d",
   "metadata": {},
   "source": [
    "### Match phrase Query\n",
    "Use a match_phrase to search for documents with titles that contain specific patterns.\n"
   ]
  },
  {
   "cell_type": "code",
   "execution_count": 110,
   "id": "439127cf-21d8-49a0-a802-c950ff038d6f",
   "metadata": {},
   "outputs": [
    {
     "name": "stdout",
     "output_type": "stream",
     "text": [
      "Total results: 15 \n",
      "\n",
      "First result: {'doi': '10.1101/2022.10.03.510647', 'title': 'Carm1 regulates the speed of C/EBPa-induced transdifferentiation by a cofactor stealing mechanism', 'authors': 'Garcia, G. T.; Kowenz-Leutz, E.; Tian, T. V.; Klonizakis, A.; Lerner, J.; De Andres-Aguayo, L.; Berenguer, C.; Carmona, M. P.; Casadesus, M. V.; Bulteau, R.; Francesconi, M.; Leutz, A.; Zaret, K. S.; Zaret, K. S.; Peiro, S.', 'author_corresponding': 'Achim Leutz', 'author_corresponding_institution': 'MDC, Berlin', 'date': '2022-10-04', 'version': '1', 'license': 'cc_by_nc_nd', 'category': 'Cell Biology', 'jatsxml': 'https://www.biorxiv.org/content/early/2022/10/04/2022.10.03.510647.source.xml', 'abstract': 'Cell fate decisions are driven by lineage-restricted transcription factors but how they are regulated is incompletely understood. The C/EBP-induced B cell to macrophage transdifferentiation (BMT) is a powerful system to address this question. Here we describe that C/EBP with a single arginine mutation (C/EBPR35A) induces a dramatically accelerated BMT in mouse and human cells. Changes in the expression of lineage-restricted genes occur as early as within 1 hour compared to 18 hours with the wild type. Mechanistically C/EBPR35A exhibits an increased affinity for PU.1, a bi-lineage transcription factor required for C/EBP-induced BMT. The complex induces more rapid chromatin accessibility changes and an enhanced relocation (stealing) of PU.1 from B cell to myeloid gene regulatory elements. Arginine 35 is methylated by Carm1 and inhibition of the enzyme accelerates BMT, similar to the mutant. Our data suggest that the relative proportions of methylated and unmethylated C/EBP in a bipotent progenitor can determine the velocity of cell fate choice and lineage directionality.', 'published': '10.7554/elife.83951', 'node': 42509, 'link_page': 'https://www.biorxiv.org/content/10.1101/2022.10.03.510647v1?versioned=TRUE', 'link_pdf': 'https://www.biorxiv.org/content/10.1101/2022.10.03.510647v1.full.pdf'}\n",
      "-------------------------\n",
      "CPU times: user 3.99 ms, sys: 360 µs, total: 4.35 ms\n",
      "Wall time: 8.59 ms\n"
     ]
    }
   ],
   "source": [
    "%%time\n",
    "\n",
    "query = {\n",
    "    \"query\": {\n",
    "        \"match_phrase\": {\n",
    "            \"title\": \"Carm1 regulates the speed of\"\n",
    "        }\n",
    "    }\n",
    "}\n",
    "\n",
    "all_results = search_data(es, index_name, query, page_size=100)\n",
    "\n",
    "print(\"Total results:\", len(all_results), \"\\n\")\n",
    "if all_results:\n",
    "    print(\"First result:\", all_results[0]['_source'])\n",
    "else:\n",
    "    print(\"No results found.\")\n",
    "\n",
    "print(\"-\" * 25)"
   ]
  },
  {
   "cell_type": "markdown",
   "id": "9f79a7a8-0a57-4839-9506-6e7cff75f0d5",
   "metadata": {},
   "source": [
    "\n",
    "### Multi-Match Query\n",
    "Search for a text across multiple fields.\n"
   ]
  },
  {
   "cell_type": "code",
   "execution_count": 111,
   "id": "112d1a8a-3e4a-4246-9b71-81496ede2263",
   "metadata": {},
   "outputs": [
    {
     "name": "stdout",
     "output_type": "stream",
     "text": [
      "Total results: 34881 \n",
      "\n",
      "First result: {'doi': '10.1101/2022.11.21.517317', 'title': 'Targeted disruption of transcription bodies causes widespread activation of transcription', 'authors': 'Ugolini, M.; Kuznetsova, K.; Oda, H.; Kimura, H.; Vastenhouw, N. L.', 'author_corresponding': 'Nadine L. Vastenhouw', 'author_corresponding_institution': 'MPI-CBG, UNIL', 'date': '2022-11-21', 'version': '1', 'license': 'cc_by_nc_nd', 'category': 'Cell Biology', 'jatsxml': 'https://www.biorxiv.org/content/early/2022/11/21/2022.11.21.517317.source.xml', 'abstract': 'The localization of transcriptional activity in specialized transcription bodies is a hallmark of gene expression in eukaryotic cells. It remains unclear, however, if and how they affect gene expression. Here, we disrupted the formation of two prominent endogenous transcription bodies that mark the onset of zygotic transcription in zebrafish embryos and analysed the effect on gene expression using enriched SLAM-Seq and live-cell imaging. We find that the disruption of transcription bodies results in downregulation of hundreds of genes, providing experimental support for a model in which transcription bodies increase the efficiency of transcription. We also find that a significant number of genes are upregulated, counter to the suggested stimulatory effect of transcription bodies. These upregulated genes have accessible chromatin and are poised to be transcribed in the presence of the two transcription bodies, but they do not go into elongation. Live-cell imaging shows that the disruption of the two large transcription bodies enables these poised genes to be transcribed in ectopic transcription bodies, suggesting that the large transcription bodies sequester a pause release factor. Supporting this hypothesis, we find that CDK9, the kinase that releases paused polymerase II, is highly enriched in the two large transcription bodies. Importantly, overexpression of CDK9 in wild type embryos results in the formation of ectopic transcription bodies and thus phenocopies the removal of the two large transcription bodies. Taken together, our results show that transcription bodies regulate transcription genome-wide: the accumulation of transcriptional machinery creates a favourable environment for transcription locally, while depriving genes elsewhere in the nucleus from the same machinery.', 'published': 'NA', 'node': 49272, 'link_page': 'https://www.biorxiv.org/content/10.1101/2022.11.21.517317v1?versioned=TRUE', 'link_pdf': 'https://www.biorxiv.org/content/10.1101/2022.11.21.517317v1.full.pdf'}\n",
      "-------------------------\n",
      "CPU times: user 419 ms, sys: 30.4 ms, total: 450 ms\n",
      "Wall time: 1.6 s\n"
     ]
    }
   ],
   "source": [
    "%%time\n",
    "\n",
    "query = {\n",
    "      \"query\": {\n",
    "        \"multi_match\": {\n",
    "            \"query\": \"transcription\",\n",
    "            \"fields\": [\"title\", \"abstract\"]\n",
    "        }\n",
    "      }\n",
    "    }\n",
    "\n",
    "all_results = search_data(es, index_name, query)\n",
    "\n",
    "print(\"Total results:\", len(all_results), \"\\n\")\n",
    "if all_results:\n",
    "    print(\"First result:\", all_results[0]['_source'])\n",
    "else:\n",
    "    print(\"No results found.\")\n",
    "\n",
    "print(\"-\" * 25)"
   ]
  },
  {
   "cell_type": "markdown",
   "id": "1189211e-fd75-4f5d-91a0-31f5224e7c5f",
   "metadata": {},
   "source": [
    "### Advanced Filtering: Beyond Keywords"
   ]
  },
  {
   "cell_type": "markdown",
   "id": "a62554d3-fd0f-4dff-bb59-98a63c2e711e",
   "metadata": {},
   "source": [
    "Filtering allows for more refined searches, such as retrieving documents within a specific date range or by particular authors, enhancing the precision of your data analysis.\n"
   ]
  },
  {
   "cell_type": "code",
   "execution_count": 112,
   "id": "6f3125f7-3853-439a-b003-b5e939b5e809",
   "metadata": {},
   "outputs": [
    {
     "name": "stdout",
     "output_type": "stream",
     "text": [
      "Total results: 10198 \n",
      "\n",
      "First result: {'doi': '10.1101/2023.05.24.542151', 'title': 'POMBOX: a fission yeast toolkit for molecular and synthetic biology', 'authors': 'Hebra, T.; Smrckova, H.; Elkatmis, B.; Prevorovsky, M.; Pluskal, T.', 'author_corresponding': 'Tomas Pluskal', 'author_corresponding_institution': 'Institute of Organic Chemistry and Biochemistry of the Czech Academy of Sciences, Praha, Czech Republic', 'date': '2023-05-24', 'version': '1', 'license': 'cc_by_nc_nd', 'category': 'Synthetic Biology', 'jatsxml': 'https://www.biorxiv.org/content/early/2023/05/24/2023.05.24.542151.source.xml', 'abstract': 'Schizosaccharomyces pombe is a popular model organism in molecular biology and cell physiology. With its ease of genetic manipulation and growth, supported by in-depth functional annotation in the PomBase database and genome-wide metabolic models, S. pombe is an attractive option for synthetic biology applications. However, S. pombe currently lacks modular tools for generating genetic circuits with more than one transcriptional unit. We have developed a toolkit to address this issue. Adapted from the MoClo- YTK plasmid kit for Saccharomyces cerevisiae and using the same Golden Gate grammar, our POMBOX toolkit is designed to facilitate the fast, efficient and modular construction of genetic circuits in S. pombe. It allows for interoperability when working with DNA sequences that are functional in both S. cerevisiae and S. pombe (e.g. protein tag, antibiotic resistance cassette, coding sequences). Moreover, POMBOX enables the modular assembly of multi-gene pathways and increases possible pathway length from 6 to 12 transcriptional units. We also adapted the stable integration vector homology arms to Golden Gate assembly and tested the genomic integration success rate depending on different sequence sizes, from four to twenty-four kilobases. We included fourteen S. pombe promoters that we characterized for two fluorescent proteins, in both minimal defined media (EMM2) and complex media (YES). Then we tested six S. cerevisiae and six synthetic terminators in S. pombe. Finally, we used the POMBOX kit for a synthetic biology application in metabolic engineering and expressed plant enzymes in S. pombe to produce specialized metabolite precursors, namely methylxanthine, amorpha-4,11-diene and cinnamic acid from the purine, mevalonate and amino acid pathways.', 'published': 'NA', 'node': 74136, 'link_page': 'https://www.biorxiv.org/content/10.1101/2023.05.24.542151v1?versioned=TRUE', 'link_pdf': 'https://www.biorxiv.org/content/10.1101/2023.05.24.542151v1.full.pdf'}\n",
      "-------------------------\n",
      "CPU times: user 164 ms, sys: 7.65 ms, total: 172 ms\n",
      "Wall time: 523 ms\n"
     ]
    }
   ],
   "source": [
    "%%time\n",
    "\n",
    "query = {\n",
    "    \"query\": {\n",
    "        \"bool\": {\n",
    "            \"must\": {\n",
    "                \"match\": {\"title\": \"Molecular Biology\"}\n",
    "            },\n",
    "            \"filter\": {\n",
    "                \"range\": {\n",
    "                    # publish_date\n",
    "                    \"date\": {\n",
    "                        \"gte\": \"2022-01-01\",\n",
    "                        \"lte\": \"2023-12-31\"\n",
    "                    }\n",
    "                }\n",
    "            }\n",
    "        }\n",
    "    }\n",
    "}\n",
    "\n",
    "all_results = search_data(es, index_name, query)\n",
    "\n",
    "print(\"Total results:\", len(all_results), \"\\n\")\n",
    "if all_results:\n",
    "    print(\"First result:\", all_results[0]['_source'])\n",
    "else:\n",
    "    print(\"No results found.\")\n",
    "\n",
    "print(\"-\" * 25)"
   ]
  },
  {
   "cell_type": "markdown",
   "id": "8afdd444-5566-454f-9ce2-9f156712d3bd",
   "metadata": {},
   "source": [
    "### Aggregation Query\n"
   ]
  },
  {
   "cell_type": "markdown",
   "id": "7be4b39d-4796-4e98-935b-640fb87afb87",
   "metadata": {},
   "source": [
    "Aggregations are pivotal for summarizing data, enabling the analysis of trends across thousands of documents. For example, an aggregation query to count publications by category:"
   ]
  },
  {
   "cell_type": "code",
   "execution_count": 113,
   "id": "cd0c444b-fd09-4c7d-bcab-cf1b02057e61",
   "metadata": {},
   "outputs": [],
   "source": [
    "def search_data_with_aggregation(es: Elasticsearch, index_name: str, query: Dict[str, Any]) -> List[Dict[str, Any]]:\n",
    "    try:\n",
    "        response = es.search(index=index_name, body=query)\n",
    "        if 'aggregations' in response:\n",
    "            # Safely access the 'categories' aggregation results\n",
    "            categories_agg = response.get('aggregations', {}).get('categories', {}).get('buckets', [])\n",
    "            return categories_agg  # Directly return the categories aggregation results\n",
    "        else:\n",
    "            print(\"No aggregations found in the response.\")\n",
    "            return []\n",
    "    except Exception as e:\n",
    "        print(f\"Search failed: {e}\")\n",
    "        return []"
   ]
  },
  {
   "cell_type": "code",
   "execution_count": 115,
   "id": "da813399-4710-40b2-8f17-b4dcdb001e84",
   "metadata": {},
   "outputs": [],
   "source": [
    "query = {\n",
    "    \"size\": 0,  # No hits, only aggregations\n",
    "    \"query\": {\n",
    "        \"match_all\": {}  # Or adjust to your specific matching needs\n",
    "    },\n",
    "    \"aggs\": {\n",
    "        \"categories\": {\n",
    "            \"terms\": {\n",
    "                \"field\": \"category.keyword\",  # Adjust field name as needed\n",
    "                \"size\": 10000  # Increase this to accommodate all expected buckets\n",
    "            }\n",
    "        }\n",
    "    }\n",
    "}\n"
   ]
  },
  {
   "cell_type": "markdown",
   "id": "0f2dc134-dc58-4322-9296-29a3bf220ae9",
   "metadata": {},
   "source": [
    "#### Aggregate data, such as counting documents by category."
   ]
  },
  {
   "cell_type": "markdown",
   "id": "905b54ee-bdfa-49c7-8260-2812758f0731",
   "metadata": {},
   "source": [
    "Checks if the response contains an 'aggregations' key and processes the results accordingly. For aggregation queries, it returns the aggregation results directly. "
   ]
  },
  {
   "cell_type": "code",
   "execution_count": 116,
   "id": "ff4b7ffa-760f-4d54-9747-5c6ab81594d3",
   "metadata": {},
   "outputs": [
    {
     "name": "stdout",
     "output_type": "stream",
     "text": [
      "Category: Neuroscience, Count: 98616\n",
      "Category: Microbiology, Count: 45626\n",
      "Category: Bioinformatics, Count: 44355\n",
      "Category: Cell Biology, Count: 30761\n",
      "Category: Biophysics, Count: 25587\n",
      "Category: Evolutionary Biology, Count: 25552\n",
      "Category: Biochemistry, Count: 21820\n",
      "Category: Immunology, Count: 21693\n",
      "Category: Cancer Biology, Count: 21634\n",
      "Category: Ecology, Count: 21539\n",
      "Category: Genomics, Count: 21376\n",
      "Category: Molecular Biology, Count: 20221\n",
      "Category: Plant Biology, Count: 17687\n",
      "Category: Bioengineering, Count: 16946\n",
      "Category: Developmental Biology, Count: 15226\n",
      "Category: Genetics, Count: 14602\n",
      "Category: Systems Biology, Count: 10545\n",
      "Category: Physiology, Count: 8716\n",
      "Category: Animal Behavior And Cognition, Count: 8459\n",
      "Category: Pharmacology And Toxicology, Count: 5535\n",
      "Category: Synthetic Biology, Count: 4922\n",
      "Category: Pathology, Count: 3186\n",
      "Category: Zoology, Count: 2734\n",
      "Category: Scientific Communication And Education, Count: 2195\n",
      "Category: Paleontology, Count: 767\n",
      "CPU times: user 8.48 ms, sys: 405 µs, total: 8.89 ms\n",
      "Wall time: 11.7 ms\n"
     ]
    }
   ],
   "source": [
    "%%time\n",
    "\n",
    "# Assuming 'es', 'index_name', and 'query' are properly defined\n",
    "results = search_data_with_aggregation(es, index_name, query)\n",
    "\n",
    "# Display the aggregation results\n",
    "if results:\n",
    "    for category in results:\n",
    "        print(f\"Category: {category['key']}, Count: {category['doc_count']}\")\n",
    "else:\n",
    "    print(\"No results found.\")"
   ]
  },
  {
   "cell_type": "markdown",
   "id": "a916a837-b9cb-4f29-b87b-1e7a7608aee4",
   "metadata": {},
   "source": [
    "---"
   ]
  },
  {
   "cell_type": "markdown",
   "id": "17b894ad-54ad-4dbc-a6d4-496b2efc09dc",
   "metadata": {},
   "source": [
    "### Generating and Executing an Elasticsearch Query"
   ]
  },
  {
   "cell_type": "markdown",
   "id": "492d798f-9c09-492f-a0b4-903010018fdd",
   "metadata": {},
   "source": [
    "#### Create a function that generates Elasticsearch queries according to specified logic operators and a date range:"
   ]
  },
  {
   "cell_type": "code",
   "execution_count": 117,
   "id": "035ffc02-aaa7-4aeb-a63a-1ae713a8b349",
   "metadata": {},
   "outputs": [],
   "source": [
    "from typing import List, Union, Dict, Any\n",
    "\n",
    "def generate_es_queries(logic_operators: List[Union[str, List[str]]], start_date: str, end_date: str, abstract_field: str = \"abstract\", date_field: str = \"date\") -> Dict[str, Any]:\n",
    "    \"\"\"\n",
    "    Generates an Elasticsearch query based on logic operators and a date range.\n",
    "\n",
    "    Parameters:\n",
    "    - logic_operators (List[Union[str, List[str]]]): A list of strings and/or lists representing the logic operators.\n",
    "      Nested lists represent OR conditions within AND conditions.\n",
    "    - start_date (str): The start date in 'YYYY-MM-DD' format.\n",
    "    - end_date (str): The end date in 'YYYY-MM-DD' format.\n",
    "    - abstract_field (str): The document field to search for abstract text.\n",
    "    - date_field (str): The document field that contains the date.\n",
    "\n",
    "    Returns:\n",
    "    - Dict[str, Any]: An Elasticsearch query in DSL format.\n",
    "    \"\"\"\n",
    "    must_conditions = []  # To store AND conditions\n",
    "    for operator in logic_operators:\n",
    "        if isinstance(operator, list):  # Handle OR conditions\n",
    "            should_conditions = [{\"match\": {abstract_field: term}} for term in operator]\n",
    "            must_conditions.append({\n",
    "                \"bool\": {\"should\": should_conditions, \"minimum_should_match\": 1}\n",
    "            })\n",
    "        else:  # Handle AND conditions\n",
    "            must_conditions.append({\"match\": {abstract_field: operator}})\n",
    "    \n",
    "    # Add date range filter\n",
    "    must_conditions.append({\n",
    "        \"range\": {\n",
    "            date_field: {  # Use the provided date field name\n",
    "                \"gte\": start_date,\n",
    "                \"lte\": end_date,\n",
    "                \"format\": \"yyyy-MM-dd\"\n",
    "            }\n",
    "        }\n",
    "    })\n",
    "    \n",
    "    # Construct the final query\n",
    "    es_query = {\n",
    "        \"query\": {\n",
    "            \"bool\": {\n",
    "                \"must\": must_conditions\n",
    "            }\n",
    "        }\n",
    "    }\n",
    "    \n",
    "    return es_query\n"
   ]
  },
  {
   "cell_type": "markdown",
   "id": "c092d0e1-0220-49ab-8dff-1bcecc2b7b2b",
   "metadata": {},
   "source": [
    "#### Construct an Elasticsearch query using a predefined function generate_es_queries, based on logic operators and a specified date range. It then pretty prints the generated query, executes it to fetch results with pagination, and displays the results.\n"
   ]
  },
  {
   "cell_type": "code",
   "execution_count": 118,
   "id": "1fee201c-aee3-400d-b372-e2723301eaf9",
   "metadata": {},
   "outputs": [
    {
     "name": "stdout",
     "output_type": "stream",
     "text": [
      "{\n",
      "    \"query\": {\n",
      "        \"bool\": {\n",
      "            \"must\": [\n",
      "                {\n",
      "                    \"match\": {\n",
      "                        \"abstract\": \"COVID-19\"\n",
      "                    }\n",
      "                },\n",
      "                {\n",
      "                    \"match\": {\n",
      "                        \"abstract\": \"coronavirus\"\n",
      "                    }\n",
      "                },\n",
      "                {\n",
      "                    \"match\": {\n",
      "                        \"abstract\": \"vaccine\"\n",
      "                    }\n",
      "                },\n",
      "                {\n",
      "                    \"range\": {\n",
      "                        \"date\": {\n",
      "                            \"gte\": \"2020-01-01\",\n",
      "                            \"lte\": \"2024-12-31\",\n",
      "                            \"format\": \"yyyy-MM-dd\"\n",
      "                        }\n",
      "                    }\n",
      "                }\n",
      "            ]\n",
      "        }\n",
      "    }\n",
      "}\n",
      "Total results: 394 \n",
      "\n",
      "First result: {'doi': '10.1101/2023.05.24.541850', 'title': 'Cross-Protection Induced by Highly Conserved Human B, CD4+, and CD8+ T Cell Epitopes-Based Coronavirus Vaccine Against Severe Infection, Disease, and Death Caused by Multiple SARS-CoV-2 Variants of Concern', 'authors': 'Prakash, S. F.; Dhanushkodi, N. R.; Zayou, L.; Ibraim, I. C.; Quadiri, A.; Coulon, P. G.; Tifrea, D. F.; Suzler, B.; Amin, M.; Chilukuri, A.; Edwards, R. A.; Vahed, H.; Nesburn, A. B.; Kuppermann, B. D.; Ulmer, J. B.; Gil, D.; Jones, T. M.; Benmohamed, L.', 'author_corresponding': 'Lbachir Benmohamed', 'author_corresponding_institution': 'GHEI/UCI School of Medecine', 'date': '2023-05-24', 'version': '1', 'license': 'cc_by_nc_nd', 'category': 'Immunology', 'jatsxml': 'https://www.biorxiv.org/content/early/2023/05/24/2023.05.24.541850.source.xml', 'abstract': 'BackgroundThe Coronavirus disease 2019 (COVID-19) pandemic has created one of the largest global health crises in almost a century. Although the current rate of SARS-CoV-2 infections has decreased significantly; the long-term outlook of COVID-19 remains a serious cause of high death worldwide; with the mortality rate still surpassing even the worst mortality rates recorded for the influenza viruses. The continuous emergence of SARS-CoV-2 variants of concern (VOCs), including multiple heavily mutated Omicron sub-variants, have prolonged the COVID-19 pandemic and outlines the urgent need for a next-generation vaccine that will protect from multiple SARS-CoV-2 VOCs.\\n\\nMethodsIn the present study, we designed a multi-epitope-based Coronavirus vaccine that incorporated B, CD4+, and CD8+ T cell epitopes conserved among all known SARS-CoV-2 VOCs and selectively recognized by CD8+ and CD4+ T-cells from asymptomatic COVID-19 patients irrespective of VOC infection. The safety, immunogenicity, and cross-protective immunity of this pan-Coronavirus vaccine were studied against six VOCs using an innovative triple transgenic h-ACE-2-HLA-A2/DR mouse model.\\n\\nResultsThe Pan-Coronavirus vaccine: (i) is safe; (ii) induces high frequencies of lung-resident functional CD8+ and CD4+ TEM and TRM cells; and (iii) provides robust protection against virus replication and COVID-19-related lung pathology and death caused by six SARS-CoV-2 VOCs: Alpha (B.1.1.7), Beta (B.1.351), Gamma or P1 (B.1.1.28.1), Delta (lineage B.1.617.2) and Omicron (B.1.1.529). Conclusions: A multi-epitope pan-Coronavirus vaccine bearing conserved human B and T cell epitopes from structural and non-structural SARS-CoV-2 antigens induced cross-protective immunity that cleared the virus, and reduced COVID-19-related lung pathology and death caused by multiple SARS-CoV-2 VOCs.', 'published': 'NA', 'node': 74123, 'link_page': 'https://www.biorxiv.org/content/10.1101/2023.05.24.541850v1?versioned=TRUE', 'link_pdf': 'https://www.biorxiv.org/content/10.1101/2023.05.24.541850v1.full.pdf'}\n",
      "-------------------------\n",
      "CPU times: user 16.3 ms, sys: 0 ns, total: 16.3 ms\n",
      "Wall time: 43.5 ms\n"
     ]
    }
   ],
   "source": [
    "%%time\n",
    "\n",
    "logic_operators = ['COVID-19', 'coronavirus', 'vaccine']\n",
    "\n",
    "start_date = '2020-01-01'\n",
    "end_date = '2024-12-31'\n",
    "es_query = generate_es_queries(logic_operators, start_date, end_date)\n",
    "\n",
    "# Pretty print the Elasticsearch query object\n",
    "pretty_es_query = json.dumps(es_query, indent=4)\n",
    "print(pretty_es_query)\n",
    "\n",
    "page_size = 9999\n",
    "\n",
    "results = search_data(es, index_name, es_query, page_size)\n",
    "\n",
    "print(\"Total results:\", len(results), \"\\n\")\n",
    "if all_results:\n",
    "    print(\"First result:\", results[0]['_source'])\n",
    "else:\n",
    "    print(\"No results found.\")\n",
    "\n",
    "print(\"-\" * 25)"
   ]
  },
  {
   "cell_type": "markdown",
   "id": "5be298a0-6a0d-429a-b756-2c3e72005121",
   "metadata": {},
   "source": [
    "---"
   ]
  },
  {
   "cell_type": "markdown",
   "id": "ba2e35c1-9250-46b5-888f-3efa2886e4c9",
   "metadata": {},
   "source": [
    "### The biorxiv database was downloaded from the medrxivr library"
   ]
  },
  {
   "cell_type": "markdown",
   "id": "d8e65391-684c-446c-a765-3964c73dc294",
   "metadata": {},
   "source": [
    "The json file used is structure as a list of dictionaries downloaded by MedrdR from a specific date range from 2022 to 2024 and contain 000 papers of data"
   ]
  },
  {
   "cell_type": "markdown",
   "id": "13b8ef33-e433-45ca-8a4b-2af5c05d8ac5",
   "metadata": {},
   "source": [
    "```python\n",
    "[\n",
    "  {\n",
    "    \"doi\": \"10.1101/043794\",\n",
    "    \"title\": \"Modeling methyl-sensitive transcription factor motifs with an expanded epigenetic alphabet\",\n",
    "    \"authors\": \"Viner, C.; Ishak, C. A.; Johnson, J.; Walker, N. J.; Shi, H.; Sjöberg-Herrera, M. K.; Shen, S. Y.; Lardo, S. M.; Adams, D. J.; Ferguson-Smith, A. C.; De Carvalho, D. D.; Hainer, S. J.; Bailey, T. L.; Hoffman, M. M.\",\n",
    "    \"author_corresponding\": \"Michael M. Hoffman\",\n",
    "    \"author_corresponding_institution\": \"Princess Margaret Cancer Centre, Toronto, ON, Canada\",\n",
    "    \"date\": \"2022-07-29\",\n",
    "    \"version\": \"2\",\n",
    "    \"license\": \"cc_by_nc_nd\",\n",
    "    \"category\": \"Bioinformatics\",\n",
    "    \"jatsxml\": \"https://www.biorxiv.org/content/early/2022/07/29/043794.source.xml\",\n",
    "    \"abstract\": \"Transcription factors bind DNA in specific sequence contexts. In addition to distinguishing one nucleobase from another, some transcription factors can distinguish between unmodified and modified bases. Current models of transcription factor binding tend not take DNA modifications into account, while the recent few that do often have limitations. This makes a comprehensive and accurate profiling of transcription factor affinities difficult.\\n\\nHere, we developed methods to identify transcription factor binding sites in modified DNA. Our models expand the standard A/C/G/T DNA alphabet to include cytosine modifications. We developed Cytomod to create modified genomic sequences and enhanced the Multiple EM for Motif Elicitation (MEME) Suite by adding the capacity to handle custom alphabets. We adapted the well-established position weight matrix (PWM) model of transcription factor binding affinity to this expanded DNA alphabet.\\n\\nUsing these methods, we identified modification-sensitive transcription factor binding motifs. We confirmed established binding preferences, such as the preference of ZFP57 and C/EBP{beta} for methylated motifs and the preference of c-Myc for unmethylated E-box motifs. Using known binding preferences to tune model parameters, we discovered novel modified motifs for a wide array of transcription factors. Finally, we validated predicted binding preferences of OCT4 using cleavage under targets and release using nuclease (CUT&RUN) experiments across conventional, methylation-, and hydroxymethylation-enriched sequences. Our approach readily extends to other DNA modifications. As more genome-wide single-base resolution modification data becomes available, we expect that our method will yield insights into altered transcription factor binding affinities across many different modifications.\",\n",
    "    \"published\": \"NA\",\n",
    "    \"node\": 2,\n",
    "    \"link_page\": \"https://www.biorxiv.org/content/10.1101/043794v2?versioned=TRUE\",\n",
    "    \"link_pdf\": \"https://www.biorxiv.org/content/10.1101/043794v2.full.pdf\"\n",
    "  },\n",
    "]\n",
    "```"
   ]
  },
  {
   "cell_type": "markdown",
   "id": "f3a80cb2-e7b0-4f7c-a189-59dba5fc68e7",
   "metadata": {},
   "source": [
    "---"
   ]
  },
  {
   "cell_type": "markdown",
   "id": "5dbdcbd7-e19d-4c21-9474-1a30e4921d55",
   "metadata": {},
   "source": [
    "### Final Note: The Impact of Advanced Querying on Research\n"
   ]
  },
  {
   "cell_type": "markdown",
   "id": "cff06250-b16f-4f7c-941b-e3d390eaa559",
   "metadata": {},
   "source": [
    "Advanced querying techniques in Elasticsearch empower researchers to navigate and analyze the vast repository of BiorXiv data with unprecedented depth and precision. From basic keyword searches to sophisticated aggregations and scripted calculations, Elasticsearch facilitates a comprehensive understanding of the life sciences landscape. By harnessing these querying capabilities, researchers can accelerate discovery, foster innovation, and contribute to the advancement of science.\n",
    "\n"
   ]
  },
  {
   "cell_type": "markdown",
   "id": "715f4043-82d1-4e8a-98c5-451b478c3e6a",
   "metadata": {},
   "source": [
    "---"
   ]
  },
  {
   "cell_type": "code",
   "execution_count": null,
   "id": "953bc8ee-098c-450c-88ab-4533a0778dae",
   "metadata": {},
   "outputs": [],
   "source": []
  }
 ],
 "metadata": {
  "kernelspec": {
   "display_name": "Python 3 (ipykernel)",
   "language": "python",
   "name": "python3"
  },
  "language_info": {
   "codemirror_mode": {
    "name": "ipython",
    "version": 3
   },
   "file_extension": ".py",
   "mimetype": "text/x-python",
   "name": "python",
   "nbconvert_exporter": "python",
   "pygments_lexer": "ipython3",
   "version": "3.12.1"
  }
 },
 "nbformat": 4,
 "nbformat_minor": 5
}
